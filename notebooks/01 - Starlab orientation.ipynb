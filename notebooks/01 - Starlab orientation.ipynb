{
 "cells": [
  {
   "cell_type": "markdown",
   "metadata": {
    "slideshow": {
     "slide_type": "slide"
    }
   },
   "source": [
    "# Starlab Orientation"
   ]
  },
  {
   "cell_type": "markdown",
   "metadata": {
    "slideshow": {
     "slide_type": "slide"
    }
   },
   "source": [
    "## Introduction\n",
    "\n",
    "This notebook serves a dual purpose. First, it gives an overview of the `starlab` set of tools. Second, it shows how\n",
    "notebooks can be used as a platform for presentations."
   ]
  },
  {
   "cell_type": "markdown",
   "metadata": {
    "slideshow": {
     "slide_type": "slide"
    }
   },
   "source": [
    "Starlab is a collection of tools for setting up and running simulations of star clusters (groups of hundreds up to millions of stars). The tools fall into four general areas:\n",
    "  1. Creation of an N-body system\n",
    "  2. Transformation of an N-body system\n",
    "  3. Time integration\n",
    "  4. Analysis\n",
    "  \n",
    "For the most part, we'll ignore the analysis tools in favor of our own, though it's good to know they're there. Also,\n",
    "our end goal includes creating some tools for transformation (for example, splicing different mass distributions together). At first, though, we will just be chaining together tools already present in the starlab package.\n",
    "\n",
    "Further information is available on the [starlab home page](http://www.sns.ias.edu/~starlab/index.html)"
   ]
  },
  {
   "cell_type": "markdown",
   "metadata": {
    "slideshow": {
     "slide_type": "slide"
    }
   },
   "source": [
    "## The tools\n",
    "\n",
    "Here are the tools we will use most heavily."
   ]
  },
  {
   "cell_type": "markdown",
   "metadata": {
    "slideshow": {
     "slide_type": "subslide"
    }
   },
   "source": [
    "### Creation of N-body systems\n",
    "\n",
    "1. `makeking` Creates a collection of stars with positions and velocities selected randomly from a distribution described by the King model.\n",
    "2. `makeplummer` Creates a collection of stars with positions and velocities selected randomly from a distribution described by the Plummer model. Plummer is simpler than King (and less realistic).\n",
    "3. `makesphere` Creates a spherical distribution of stars. We might use this for testing purposes.\n",
    "4. `makecube` Creates a cubical distribution of stars. We might use this for testing purposes.\n",
    "5. `makenode` The generic parent generator. Doesn't apply any position or velocity information."
   ]
  },
  {
   "cell_type": "markdown",
   "metadata": {
    "slideshow": {
     "slide_type": "subslide"
    }
   },
   "source": [
    "### Transformation of N-body systems\n",
    "\n",
    "1. `makemass` applies masses to an existing model. Masses are chosen randomly from one of a few possible distributions (all are essentially power laws; this is somewhat configurable).\n",
    "2. `makesecondary` adds binary stars to some fraction of a cluster. Doesn't provide orbital characteristics for the binary system, and doesn't maintain mass scaling.\n",
    "3. `scale` rescales total energy and mass in the system.\n",
    "4. `makebinary` adds the orbital characteristics for the binary stars.\n"
   ]
  },
  {
   "cell_type": "markdown",
   "metadata": {
    "slideshow": {
     "slide_type": "subslide"
    }
   },
   "source": [
    "### Integration\n",
    "\n",
    "There's really only one tool here.\n",
    "\n",
    "1. `kira` integrates N-body systems."
   ]
  },
  {
   "cell_type": "markdown",
   "metadata": {
    "slideshow": {
     "slide_type": "slide"
    }
   },
   "source": [
    "## Examples\n",
    "\n",
    "The starlab website [has a page](http://www.sns.ias.edu/~starlab/examples/) which gives some example uses of the tools, with parameters. If I'm feeling ambitious, I'll update this section with some example code and movies of output."
   ]
  },
  {
   "cell_type": "code",
   "execution_count": null,
   "metadata": {
    "collapsed": true
   },
   "outputs": [],
   "source": []
  }
 ],
 "metadata": {
  "celltoolbar": "Slideshow",
  "kernelspec": {
   "display_name": "Python 3",
   "language": "python",
   "name": "python3"
  },
  "language_info": {
   "codemirror_mode": {
    "name": "ipython",
    "version": 3
   },
   "file_extension": ".py",
   "mimetype": "text/x-python",
   "name": "python",
   "nbconvert_exporter": "python",
   "pygments_lexer": "ipython3",
   "version": "3.4.4"
  }
 },
 "nbformat": 4,
 "nbformat_minor": 0
}
