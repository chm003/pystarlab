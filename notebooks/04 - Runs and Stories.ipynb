{
 "cells": [
  {
   "cell_type": "markdown",
   "metadata": {},
   "source": [
    "# Runs and Stories\n",
    "\n",
    "At this point, we've built a container class to store the output of `starlab` commands, but we have yet to create a pythonic way to generate those commands in the first place. We're going to do that now. This object (which we will call a `Run`) should contain all of the metadata for a simulation, methods to generate the necessary starlab commands and create `Stories` from them, and references to the resulting `Story` objects. It might be convenient to store `Stories` for all of the transformations that happen prior to integrating, as well.\n",
    "\n",
    "There are a couple of ways we could approach this task. We could:\n",
    "\n",
    "1. Make a very generic and flexible system for generating shell commands, or\n",
    "2. Make specific methods for the commands we will use.\n",
    "\n",
    "Thinking ahead to building the web frontend, I think option 2 will serve us better, so we'll (more or less) go that route.\n",
    "\n",
    "Commands fall into three categories:\n",
    "\n",
    "1. Creation of star clusters\n",
    "2. Transformation of star clusters\n",
    "3. Time integration\n",
    "\n",
    "We'll deal with each of these separately."
   ]
  },
  {
   "cell_type": "markdown",
   "metadata": {},
   "source": [
    "## Cluster creation commands\n",
    "\n",
    "The two cluster creation commands that are most useful are `makeking` and `makeplummer`. Each generates a distribution of stars in space and velocity (effectively, in potential and kinetic energy space) that satisfies a particular model for equilibrium dynamics.  In addition to these, there are a couple of commands that are useful for testing purposes: `makesphere`, and `makecube`. I'd like to support all four of these commands.\n",
    "\n",
    "Now, for the complexity. Each of these has slightly different arguments; some are mandatory and some are optional. Some take values, and others don't. To summarize:"
   ]
  },
  {
   "cell_type": "code",
   "execution_count": 1,
   "metadata": {
    "collapsed": true
   },
   "outputs": [],
   "source": [
    "# creation commands and their arguments\n",
    "# required arguments include defaults\n",
    "# optional arguments are split into those that take a value and those that don't\n",
    "creation_command_arguments = {'makesphere':{'required':{'n':500},\n",
    "                                            'allowed_value':['s', 'R'],\n",
    "                                            'allowed_no_value':['i','l','o','u','U']},\n",
    "                              'makecube':{'required':{'n':500},\n",
    "                                          'allowed_value':['s', 'L'],\n",
    "                                          'allowed_no_value':['i','l','o','u']},\n",
    "                              'makeplummer':{'required':{'n':500},\n",
    "                                             'allowed_value':['s', 'm', 'r'],\n",
    "                                             'allowed_no_value':['i','R','o','u']},\n",
    "                              'makeking':{'required':{'n':500,\n",
    "                                                      'w':5.0},\n",
    "                                          'allowed_value':['s', 'b'],\n",
    "                                          'allowed_no_value':['i','o','u']}}"
   ]
  },
  {
   "cell_type": "code",
   "execution_count": 10,
   "metadata": {
    "collapsed": true
   },
   "outputs": [],
   "source": [
    "def build_command(cmd, default_arguments_dict, **cmd_args):\n",
    "    \"\"\"Generate a starlab command from arguments, supplying defaults.\n",
    "    \n",
    "    Arguments that aren't allowed for a particular command are silently ignored.\n",
    "    \"\"\"\n",
    "    if cmd not in default_arguments_dict.keys():\n",
    "        raise ValueError('Unrecognized cluster creation command: %s' % cmd)\n",
    "    command_array = [cmd,]\n",
    "    args_dict = default_arguments_dict[cmd]\n",
    "    for arg, default in args_dict['required'].items():\n",
    "        val = cmd_args.get(arg, default)\n",
    "        command_array.extend(['-'+arg, val])\n",
    "    for arg in args_dict['allowed_value']:\n",
    "        val = cmd_args.get(arg, None)\n",
    "        if val is not None:\n",
    "            command_array.extend(['-'+arg, val])\n",
    "    for arg in args_dict['allowed_no_value']:\n",
    "        val = cmd_args.get(arg, False)\n",
    "        if val:\n",
    "            command_array.append('-'+arg)\n",
    "            \n",
    "    return command_array"
   ]
  },
  {
   "cell_type": "code",
   "execution_count": 11,
   "metadata": {
    "collapsed": false
   },
   "outputs": [
    {
     "data": {
      "text/plain": [
       "['makeking', '-n', 500, '-w', 5.0, '-s', 1234567, '-i']"
      ]
     },
     "execution_count": 11,
     "metadata": {},
     "output_type": "execute_result"
    }
   ],
   "source": [
    "build_command('makeking', creation_command_arguments, s=1234567, i=3, u=False)"
   ]
  },
  {
   "cell_type": "markdown",
   "metadata": {},
   "source": [
    "This works, but it isn't very tidy. Let me clean things up a bit by using an `Enum` class."
   ]
  },
  {
   "cell_type": "code",
   "execution_count": 46,
   "metadata": {
    "collapsed": false
   },
   "outputs": [],
   "source": [
    "from enum import Enum\n",
    "\n",
    "class StarlabCommand(Enum):\n",
    "    \"\"\"Enumerator class for starlab commands.\n",
    "    \n",
    "    Each command takes three parameters:\n",
    "    \n",
    "    1. A dictionary of required arguments (with default values),\n",
    "    2. A list of optional arguments that take a value, and\n",
    "    3. A list of optional arguments that don't take a value.\n",
    "    \n",
    "    If there are parameters which are not, strictly speaking, required\n",
    "    (i.e., the underlying starlab command will execute without them being\n",
    "    supplied) but I want to make sure they get into the database, I will\n",
    "    include them in the required list.\n",
    "    \"\"\"\n",
    "    def __init__(self, required, with_value, without_value):\n",
    "        \"\"\"Initialize.\"\"\"\n",
    "        \n",
    "        self.required = required\n",
    "        self.with_value = with_value\n",
    "        self.without_value = without_value\n",
    "\n",
    "    def build_command(self, **cmd_args):\n",
    "        \"\"\"Build a command list suitable for passing to subprocess.Run()\"\"\"\n",
    "        \n",
    "        command_list = [self.name]\n",
    "        for arg, default in self.required.items():\n",
    "            val = cmd_args.get(arg, default)\n",
    "            command_list.extend(['-'+arg, val])\n",
    "        for arg in self.with_value:\n",
    "            val = cmd_args.get(arg, None)\n",
    "            if val is not None:\n",
    "                command_list.extend(['-'+arg, val])\n",
    "        for arg in self.without_value:\n",
    "            val = cmd_args.get(arg, False)\n",
    "            if val:\n",
    "                command_list.append('-'+arg)\n",
    "        return command_list\n",
    "\n",
    "class StarlabCreationCommand(StarlabCommand):\n",
    "    \"\"\"Starlab cluster creation commands.\n",
    "    \"\"\"\n",
    "    makesphere = ({}, ['R'], ['i','l','o','u','U'])\n",
    "    makecube = ({}, ['L'], ['i','l','o','u'])\n",
    "    makeplummer = ({}, ['m', 'r'], ['i','R','o','u'])\n",
    "    makeking = ({'w':5.0}, ['b'], ['i','o','u'])\n",
    "\n",
    "    def __init__(self, required, with_value, without_value):\n",
    "        \"\"\"Initialize.\n",
    "        \n",
    "        All creation methods require a number of stars, and I'm adding\n",
    "        random seed to the required list.\"\"\"\n",
    "        self.required = required\n",
    "        self.with_value = with_value\n",
    "        self.without_value = without_value\n",
    "\n",
    "        self.required['n'] = 500\n",
    "        self.required['s'] = 123456789"
   ]
  },
  {
   "cell_type": "code",
   "execution_count": 48,
   "metadata": {
    "collapsed": false
   },
   "outputs": [
    {
     "data": {
      "text/plain": [
       "['makeking', '-s', 987654321, '-n', 2500, '-w', 1.2, '-i']"
      ]
     },
     "execution_count": 48,
     "metadata": {},
     "output_type": "execute_result"
    }
   ],
   "source": [
    "StarlabCreationCommand.makeking.build_command(s=987654321, w=1.2, n=2500, i=True)"
   ]
  },
  {
   "cell_type": "markdown",
   "metadata": {},
   "source": [
    "## Cluster Transformation commands"
   ]
  },
  {
   "cell_type": "markdown",
   "metadata": {},
   "source": [
    "The two transformation commands we will use in just about every simulation are `makemass` and `scale`; if we're going to have binaries in the simulation we will also use `makesecondary` and `makebinary`.\n",
    "\n",
    "We can use the same strategy we've already used to generate the commands. In this case, since `scale` doesn't take a random seed, we don't have any required arguments that are common to all of the commands, and we don't need to overload any methods. We do want to keep these as a separate `Enum` class, though, because they're in a different category than the creation commands. "
   ]
  },
  {
   "cell_type": "code",
   "execution_count": 43,
   "metadata": {
    "collapsed": false
   },
   "outputs": [],
   "source": [
    "class StarlabTransformationCommand(StarlabCommand):\n",
    "    \"\"\"Starlab cluster transformation commands.\"\"\"\n",
    "    makemass = ({'e':-2.35, 'f':1, 's':123456789}, ['h', 'l', 'u'], ['i', 'm'])\n",
    "    makesecondary = ({'s':123456789}, ['f', 'l', 'm', 'M', 'u'], ['i', 'I', 'q', 'S'])\n",
    "    scale = ({}, ['e', 'E', 'm', 'q', 'r'], ['c', 's'])\n",
    "    makebinary = ({'s':123456789}, ['f', 'e', 'l', 'o', 'u'], [])"
   ]
  },
  {
   "cell_type": "markdown",
   "metadata": {},
   "source": [
    "## Time integration\n",
    "\n",
    "The integrator has a lot of options, but otherwise, the same strategy works. It seems a little silly to have an `Enum` class with only one item in it, but that's partly a function of the kinds of things we're studying. There are a couple of other integrators included in `starlab`, but they're not designed for our problems of interest."
   ]
  },
  {
   "cell_type": "code",
   "execution_count": 51,
   "metadata": {
    "collapsed": true
   },
   "outputs": [],
   "source": [
    "class StarlabIntegrationCommand(StarlabCommand):\n",
    "    \"\"\"Time integration\"\"\"\n",
    "    kira = ({'d':1, 's':123456789, 't':10},\n",
    "            list('bDefFgGhIkKlLnNqRTWXyzZ'),\n",
    "            list('aABEioOrSuUvx'))"
   ]
  },
  {
   "cell_type": "markdown",
   "metadata": {},
   "source": [
    "## Putting it all Together"
   ]
  },
  {
   "cell_type": "markdown",
   "metadata": {},
   "source": [
    "## Serializing the Run"
   ]
  },
  {
   "cell_type": "code",
   "execution_count": 13,
   "metadata": {
    "collapsed": false
   },
   "outputs": [],
   "source": [
    "foo = (None,)"
   ]
  },
  {
   "cell_type": "code",
   "execution_count": 14,
   "metadata": {
    "collapsed": true
   },
   "outputs": [],
   "source": [
    "import uuid"
   ]
  },
  {
   "cell_type": "code",
   "execution_count": 19,
   "metadata": {
    "collapsed": false
   },
   "outputs": [
    {
     "data": {
      "text/plain": [
       "303879504568696653710410758444955439609"
      ]
     },
     "execution_count": 19,
     "metadata": {},
     "output_type": "execute_result"
    }
   ],
   "source": [
    "int(uuid.uuid1())"
   ]
  },
  {
   "cell_type": "code",
   "execution_count": 20,
   "metadata": {
    "collapsed": true
   },
   "outputs": [],
   "source": [
    "foo = uuid.uuid1()"
   ]
  },
  {
   "cell_type": "code",
   "execution_count": 28,
   "metadata": {
    "collapsed": false
   },
   "outputs": [
    {
     "data": {
      "text/plain": [
       "(4156668876, 54709, 4581, 179, 213, 57452528112121)"
      ]
     },
     "execution_count": 28,
     "metadata": {},
     "output_type": "execute_result"
    }
   ],
   "source": [
    "foo.fields"
   ]
  },
  {
   "cell_type": "code",
   "execution_count": 29,
   "metadata": {
    "collapsed": false
   },
   "outputs": [
    {
     "data": {
      "text/plain": [
       "(631299950, 54710, 4581, 179, 213, 57452528112121)"
      ]
     },
     "execution_count": 29,
     "metadata": {},
     "output_type": "execute_result"
    }
   ],
   "source": [
    "uuid.uuid1().fields"
   ]
  },
  {
   "cell_type": "code",
   "execution_count": 33,
   "metadata": {
    "collapsed": false
   },
   "outputs": [
    {
     "data": {
      "text/plain": [
       "54709"
      ]
     },
     "execution_count": 33,
     "metadata": {},
     "output_type": "execute_result"
    }
   ],
   "source": [
    "foo.time_mid"
   ]
  },
  {
   "cell_type": "code",
   "execution_count": 39,
   "metadata": {
    "collapsed": false
   },
   "outputs": [
    {
     "name": "stdout",
     "output_type": "stream",
     "text": [
      "2502413767 3290443559\n"
     ]
    }
   ],
   "source": [
    "print(uuid.uuid4().time_low, uuid.uuid4().time_low)"
   ]
  },
  {
   "cell_type": "code",
   "execution_count": null,
   "metadata": {
    "collapsed": true
   },
   "outputs": [],
   "source": []
  }
 ],
 "metadata": {
  "kernelspec": {
   "display_name": "Python 3",
   "language": "python",
   "name": "python3"
  },
  "language_info": {
   "codemirror_mode": {
    "name": "ipython",
    "version": 3
   },
   "file_extension": ".py",
   "mimetype": "text/x-python",
   "name": "python",
   "nbconvert_exporter": "python",
   "pygments_lexer": "ipython3",
   "version": "3.5.1"
  }
 },
 "nbformat": 4,
 "nbformat_minor": 0
}
