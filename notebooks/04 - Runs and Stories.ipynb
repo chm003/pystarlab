{
 "cells": [
  {
   "cell_type": "markdown",
   "metadata": {},
   "source": [
    "# Runs and Stories\n",
    "\n",
    "At this point, we've built a container class to store the output of `starlab` commands, but we have yet to create a pythonic way to generate those commands in the first place. We're going to do that now. This object (which we will call a `Run`) should contain all of the metadata for a simulation, methods to generate the necessary starlab commands and create `Stories` from them, and references to the resulting `Story` objects. It might be convenient to store `Stories` for all of the transformations that happen prior to integrating, as well.\n",
    "\n",
    "There are a couple of ways we could approach this task. We could:\n",
    "\n",
    "1. Make a very generic and flexible system for generating shell commands, or\n",
    "2. Make specific methods for the commands we will use.\n",
    "\n",
    "Thinking ahead to building the web frontend, I think option 2 will serve us better, so we'll go that route."
   ]
  },
  {
   "cell_type": "code",
   "execution_count": null,
   "metadata": {
    "collapsed": true
   },
   "outputs": [],
   "source": []
  }
 ],
 "metadata": {
  "kernelspec": {
   "display_name": "Python 3",
   "language": "python",
   "name": "python3"
  },
  "language_info": {
   "codemirror_mode": {
    "name": "ipython",
    "version": 3
   },
   "file_extension": ".py",
   "mimetype": "text/x-python",
   "name": "python",
   "nbconvert_exporter": "python",
   "pygments_lexer": "ipython3",
   "version": "3.5.1"
  }
 },
 "nbformat": 4,
 "nbformat_minor": 0
}
