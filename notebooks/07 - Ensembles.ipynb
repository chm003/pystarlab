{
 "cells": [
  {
   "cell_type": "markdown",
   "metadata": {},
   "source": [
    "### Setting things up"
   ]
  },
  {
   "cell_type": "markdown",
   "metadata": {},
   "source": [
    "Make sure your cluster is started (start the engines on the dashboard, if necessary) and then execute the following:"
   ]
  },
  {
   "cell_type": "code",
   "execution_count": null,
   "metadata": {
    "collapsed": false
   },
   "outputs": [],
   "source": [
    "%pylab inline\n",
    "import uuid\n",
    "import pickle\n",
    "import datetime\n",
    "\n",
    "import starlab\n",
    "from IPython.parallel import Client\n",
    "rc = Client(profile=\"default\")\n",
    "len(rc.ids)"
   ]
  },
  {
   "cell_type": "code",
   "execution_count": null,
   "metadata": {
    "collapsed": false
   },
   "outputs": [],
   "source": [
    "lbv = rc.load_balanced_view()"
   ]
  },
  {
   "cell_type": "markdown",
   "metadata": {},
   "source": [
    "We're now ready to generate an ensemble's worth of data.  Here's the function we'll use to do it."
   ]
  },
  {
   "cell_type": "code",
   "execution_count": null,
   "metadata": {
    "collapsed": false
   },
   "outputs": [],
   "source": [
    "def run_ensemble(rc=rc, nruns=10, nstars=100, kingmodel=True, **kwargs):\n",
    "    starttime = datetime.datetime.now()\n",
    "    print \"Starting at \", starttime\n",
    "    lbv = rc.load_balanced_view()\n",
    "    runs = [starlab.Run(nstars=nstars, kingmodel=kingmodel, **kwargs)]*nruns\n",
    "\n",
    "    print \"Launching %d runs\" % nruns\n",
    "    results = lbv.map(starlab.single_run, runs)\n",
    "    results.wait()\n",
    "    \n",
    "    ensemble_uuid = uuid.uuid1()\n",
    "    ensemble_results_file_name = str(ensemble_uuid)+\".ensemble\"\n",
    "    ensemble_results_file = open(ensemble_results_file_name, \"wb\")\n",
    "\n",
    "    print \"Storing results in %s\" %ensemble_results_file_name\n",
    "    resultlist = results[:]\n",
    "    pickle.dump(resultlist, ensemble_results_file)\n",
    "    \n",
    "    endtime = datetime.datetime.now()\n",
    "    print \"Finished at \", endtime\n",
    "    print \"Elapsed time: \", endtime - starttime "
   ]
  },
  {
   "cell_type": "markdown",
   "metadata": {},
   "source": [
    "You'll note that the default is to run a small ensemble (10 runs) of small clusters (100 stars each) of King models."
   ]
  },
  {
   "cell_type": "code",
   "execution_count": null,
   "metadata": {
    "collapsed": false
   },
   "outputs": [],
   "source": [
    "run_ensemble(kingmodel=False)"
   ]
  },
  {
   "cell_type": "markdown",
   "metadata": {},
   "source": [
    "The results for each run in the ensemble are stored in a (very much improvised) data warehouse, and the information of how to retrieve the necessary information is stored in a file with the extension \".ensemble\"  The file name is actually a universally unique identifier (UUID), which isn't very meaningful by itself:"
   ]
  },
  {
   "cell_type": "code",
   "execution_count": null,
   "metadata": {
    "collapsed": false
   },
   "outputs": [],
   "source": [
    "ls *.ensemble"
   ]
  },
  {
   "cell_type": "code",
   "execution_count": null,
   "metadata": {
    "collapsed": false
   },
   "outputs": [],
   "source": [
    "more 1fd770ec-91cb-11e3-be2b-90e2ba0993e2.ensemble"
   ]
  },
  {
   "cell_type": "markdown",
   "metadata": {},
   "source": [
    "But, we can always go to it later and figure out what is inside through the magic of introspection.  Here I open the ensemble, load up the results, and make an animation of run number 8 within the ensemble.  Note that your UUID will differ; you'll have to change the filename in the cell below if you want to get an animation instead of an error message."
   ]
  },
  {
   "cell_type": "code",
   "execution_count": null,
   "metadata": {
    "collapsed": false
   },
   "outputs": [],
   "source": [
    "ensfile = open('cd4128e8-8ab1-11e3-9f4f-90e2ba0993e2.ensemble', 'rb')\n",
    "runslist = pickle.load(ensfile)\n",
    "\n",
    "fname = starlab.animate_run(runslist[8])\n",
    "from IPython.display import HTML\n",
    "video = open(fname, \"rb\").read()\n",
    "video_encoded = video.encode(\"base64\")\n",
    "video_tag = '<video controls alt=\"test\" src=\"data:video/x-m4v;base64,{0}\">'.format(video_encoded)\n",
    "HTML(data=video_tag)"
   ]
  },
  {
   "cell_type": "markdown",
   "metadata": {},
   "source": [
    "After you have a good collection of data, we can talk about how to analyze it a little better."
   ]
  },
  {
   "cell_type": "markdown",
   "metadata": {},
   "source": [
    "### Now you try it."
   ]
  },
  {
   "cell_type": "markdown",
   "metadata": {},
   "source": [
    "You will want to change the number of stars, the number of runs in the ensemble, and perhaps other things.  For the sake of documentation, you'll probably want to make a separate section for each ensemble or set of ensembles you generate.  Write notes in markdown cells (like this one) to remind yourself what you're doing, and then generate the ensembles. "
   ]
  },
  {
   "cell_type": "code",
   "execution_count": null,
   "metadata": {
    "collapsed": false
   },
   "outputs": [],
   "source": [
    "rc = Client()\n",
    "len(rc.ids)"
   ]
  },
  {
   "cell_type": "code",
   "execution_count": null,
   "metadata": {
    "collapsed": false
   },
   "outputs": [],
   "source": [
    "lbv = rc.load_balanced_view()"
   ]
  },
  {
   "cell_type": "code",
   "execution_count": null,
   "metadata": {
    "collapsed": false
   },
   "outputs": [],
   "source": [
    "run_ensemble(rc,nstars=1500, nruns=80)"
   ]
  },
  {
   "cell_type": "code",
   "execution_count": null,
   "metadata": {
    "collapsed": false
   },
   "outputs": [],
   "source": [
    "run_ensemble(rc, nstars=213, nruns=100, runlength=75, kingmodel=False)"
   ]
  },
  {
   "cell_type": "code",
   "execution_count": null,
   "metadata": {
    "collapsed": false
   },
   "outputs": [],
   "source": []
  }
 ],
 "metadata": {
  "kernelspec": {
   "display_name": "Python 3",
   "language": "python",
   "name": "python3"
  },
  "language_info": {
   "codemirror_mode": {
    "name": "ipython",
    "version": 3
   },
   "file_extension": ".py",
   "mimetype": "text/x-python",
   "name": "python",
   "nbconvert_exporter": "python",
   "pygments_lexer": "ipython3",
   "version": "3.4.4"
  }
 },
 "nbformat": 4,
 "nbformat_minor": 0
}
